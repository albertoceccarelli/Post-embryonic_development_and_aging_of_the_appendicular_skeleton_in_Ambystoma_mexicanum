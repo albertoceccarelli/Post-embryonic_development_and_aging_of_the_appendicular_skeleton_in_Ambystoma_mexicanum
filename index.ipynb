{
 "cells": [
  {
   "cell_type": "markdown",
   "metadata": {},
   "source": [
    "## Supplementary notebook for Post-embryonic development and aging of the appendicular skeleton in Ambystoma mexicanum\n",
    "\n",
    "### Camilo Riquelme-Guzmán1, Maritta Schuez1, Alexander Böhm1, Dunja Knapp1, Sandra S. Edwards1, Alberto S. Ceccarelli2, Osvaldo Chara2,3,4, Martina Rauner5,6, Tatiana Sandoval-Guzmán1,6\n",
    "\n",
    "##### 1 Technische Universität Dresden, CRTD/ Center for Regenerative Therapies TU Dresden, Dresden, Germany.\n",
    "##### 2 System Biology Group (SysBio), Institute of Physics of Liquids and Biological Systems (IFLySiB), National Scientific and Technical Research Council (CONICET) and University of La Plata, La Plata, Argentina.\n",
    "##### 3 Institute of Technology, Argentinian University of Business (UADE), Buenos Aires, Argentina.\n",
    "##### 4 Center for Information Services and High Performance Computing (ZIH),  Technische Universität Dresden, Dresden, Germany.\n",
    "##### 5 Department of Medicine III, Universitätsklinikum Dresden, Dresden, Germany.\n",
    "##### 6 Center for Healthy Aging, Universitätsklinikum Dresden, Dresden, Germany.\n",
    "\n",
    "##### This work is available at: https://www.biorxiv.org/content/10.1101/2021.03.05.434057v1"
   ]
  },
  {
   "cell_type": "markdown",
   "metadata": {},
   "source": [
    "## Introduction\n",
    "\n",
    "This notebook contains the source code for the calculations shown in Riquelme-Guzmán et al., 2021. \n",
    "\n",
    "## List of notebooks\n",
    "\n",
    "* [Fig 1](Post-embryonic_development_and_aging_of_the_appendicular_skeleton_in_Ambystoma_mexicanum.ipynb):\n",
    "    * Fig 1: This notebook generates all the panels for Fig 1 of the paper. "
   ]
  },
  {
   "cell_type": "code",
   "execution_count": null,
   "metadata": {},
   "outputs": [],
   "source": []
  }
 ],
 "metadata": {
  "kernelspec": {
   "display_name": "Python 3",
   "language": "python",
   "name": "python3"
  },
  "language_info": {
   "codemirror_mode": {
    "name": "ipython",
    "version": 3
   },
   "file_extension": ".py",
   "mimetype": "text/x-python",
   "name": "python",
   "nbconvert_exporter": "python",
   "pygments_lexer": "ipython3",
   "version": "3.7.3"
  }
 },
 "nbformat": 4,
 "nbformat_minor": 2
}
